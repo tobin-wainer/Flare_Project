{
 "cells": [
  {
   "cell_type": "code",
   "execution_count": 1,
   "id": "efe63d8b",
   "metadata": {},
   "outputs": [
    {
     "name": "stderr",
     "output_type": "stream",
     "text": [
      "/Users/Tobin/opt/anaconda3/envs/Jim/lib/python3.11/site-packages/lightkurve/config/__init__.py:119: UserWarning: The default Lightkurve cache directory, used by download(), etc., has been moved to /Users/Tobin/.lightkurve/cache. Please move all the files in the legacy directory /Users/Tobin/.lightkurve-cache to the new location and remove the legacy directory. Refer to https://docs.lightkurve.org/reference/config.html#default-cache-directory-migration for more information.\n",
      "  warnings.warn(\n"
     ]
    }
   ],
   "source": [
    "import numpy as np\n",
    "import matplotlib.pyplot as plt\n",
    "import pandas as pd\n",
    "from scipy.optimize import curve_fit\n",
    "import astropy\n",
    "import lightkurve as lk"
   ]
  },
  {
   "cell_type": "code",
   "execution_count": 8,
   "id": "03824942",
   "metadata": {},
   "outputs": [],
   "source": [
    "search = lk.search_lightcurve('tic346783960', author='TESS-SPOC')\n"
   ]
  },
  {
   "cell_type": "code",
   "execution_count": 10,
   "id": "3f05bc79",
   "metadata": {},
   "outputs": [
    {
     "data": {
      "text/html": [
       "<div><i>TessLightCurve length=11673 LABEL=&quot;TIC 346783960&quot; SECTOR=58 AUTHOR=SPOC FLUX_ORIGIN=pdcsap_flux</i>\n",
       "<table id=\"table5109402576\" class=\"table-striped table-bordered table-condensed\">\n",
       "<thead><tr><th>time</th><th>flux</th><th>flux_err</th><th>timecorr</th><th>cadenceno</th><th>centroid_col</th><th>centroid_row</th><th>sap_flux</th><th>sap_flux_err</th><th>sap_bkg</th><th>sap_bkg_err</th><th>pdcsap_flux</th><th>pdcsap_flux_err</th><th>quality</th><th>psf_centr1</th><th>psf_centr1_err</th><th>psf_centr2</th><th>psf_centr2_err</th><th>mom_centr1</th><th>mom_centr1_err</th><th>mom_centr2</th><th>mom_centr2_err</th><th>pos_corr1</th><th>pos_corr2</th></tr></thead>\n",
       "<thead><tr><th></th><th>electron / s</th><th>electron / s</th><th>d</th><th></th><th>pix</th><th>pix</th><th>electron / s</th><th>electron / s</th><th>electron / s</th><th>electron / s</th><th>electron / s</th><th>electron / s</th><th></th><th>pix</th><th>pix</th><th>pix</th><th>pix</th><th>pix</th><th>pix</th><th>pix</th><th>pix</th><th>pix</th><th>pix</th></tr></thead>\n",
       "<thead><tr><th>Time</th><th>float32</th><th>float32</th><th>float32</th><th>int32</th><th>float64</th><th>float64</th><th>float32</th><th>float32</th><th>float32</th><th>float32</th><th>float32</th><th>float32</th><th>int32</th><th>float64</th><th>float32</th><th>float64</th><th>float32</th><th>float64</th><th>float32</th><th>float64</th><th>float32</th><th>float32</th><th>float32</th></tr></thead>\n",
       "<tr><td>2882.3370241961716</td><td>1.7166804e+07</td><td>3.4498318e+02</td><td>4.9530123e-03</td><td>714905</td><td>1085.32006</td><td>1597.27768</td><td>1.7069966e+07</td><td>3.4032541e+02</td><td>4.1463176e+04</td><td>3.2754356e+01</td><td>1.7166804e+07</td><td>3.4498318e+02</td><td>0</td><td>———</td><td>———</td><td>———</td><td>———</td><td>1085.32006</td><td>2.4084469e-05</td><td>1597.27768</td><td>2.1620681e-04</td><td>2.9475173e-02</td><td>-7.7257261e-02</td></tr>\n",
       "<tr><td>2882.3393390806837</td><td>1.7105512e+07</td><td>3.4495099e+02</td><td>4.9530831e-03</td><td>714906</td><td>1085.32091</td><td>1597.27379</td><td>1.7066666e+07</td><td>3.4029367e+02</td><td>4.1504125e+04</td><td>3.2763607e+01</td><td>1.7105512e+07</td><td>3.4495099e+02</td><td>0</td><td>———</td><td>———</td><td>———</td><td>———</td><td>1085.32091</td><td>2.4087996e-05</td><td>1597.27379</td><td>2.1615352e-04</td><td>3.0780369e-02</td><td>-7.8921974e-02</td></tr>\n",
       "<tr><td>2882.341653964731</td><td>1.7038040e+07</td><td>3.4501218e+02</td><td>4.9531534e-03</td><td>714907</td><td>1085.31987</td><td>1597.27535</td><td>1.7072652e+07</td><td>3.4035403e+02</td><td>4.1538707e+04</td><td>3.2768730e+01</td><td>1.7038040e+07</td><td>3.4501218e+02</td><td>0</td><td>———</td><td>———</td><td>———</td><td>———</td><td>1085.31987</td><td>2.4083620e-05</td><td>1597.27535</td><td>2.1617582e-04</td><td>2.8972745e-02</td><td>-7.9041302e-02</td></tr>\n",
       "<tr><td>2882.343968849243</td><td>1.6974388e+07</td><td>3.4501505e+02</td><td>4.9532242e-03</td><td>714908</td><td>1085.32033</td><td>1597.27585</td><td>1.7072686e+07</td><td>3.4035687e+02</td><td>4.1547938e+04</td><td>3.2797089e+01</td><td>1.6974388e+07</td><td>3.4501505e+02</td><td>0</td><td>———</td><td>———</td><td>———</td><td>———</td><td>1085.32033</td><td>2.4085470e-05</td><td>1597.27585</td><td>2.1617237e-04</td><td>3.0452561e-02</td><td>-8.0006719e-02</td></tr>\n",
       "<tr><td>...</td><td>...</td><td>...</td><td>...</td><td>...</td><td>...</td><td>...</td><td>...</td><td>...</td><td>...</td><td>...</td><td>...</td><td>...</td><td>...</td><td>...</td><td>...</td><td>...</td><td>...</td><td>...</td><td>...</td><td>...</td><td>...</td><td>...</td><td>...</td></tr>\n",
       "<tr><td>2910.0455853442895</td><td>1.7937842e+07</td><td>3.4564075e+02</td><td>5.1937890e-03</td><td>726875</td><td>1085.29502</td><td>1597.34690</td><td>1.7183710e+07</td><td>3.4097409e+02</td><td>2.9619293e+04</td><td>2.8921635e+01</td><td>1.7937842e+07</td><td>3.4564075e+02</td><td>0</td><td>———</td><td>———</td><td>———</td><td>———</td><td>1085.29502</td><td>2.3945988e-05</td><td>1597.34690</td><td>2.1793613e-04</td><td>-1.1825047e-02</td><td>6.3906573e-02</td></tr>\n",
       "<tr><td>2910.0479001217004</td><td>1.7944114e+07</td><td>3.4570709e+02</td><td>5.1937527e-03</td><td>726876</td><td>1085.29376</td><td>1597.34682</td><td>1.7190422e+07</td><td>3.4103958e+02</td><td>2.9665562e+04</td><td>2.8926380e+01</td><td>1.7944114e+07</td><td>3.4570709e+02</td><td>0</td><td>———</td><td>———</td><td>———</td><td>———</td><td>1085.29376</td><td>2.3939139e-05</td><td>1597.34682</td><td>2.1806524e-04</td><td>-1.3255227e-02</td><td>6.2825672e-02</td></tr>\n",
       "<tr><td>2910.0502148986457</td><td>1.7935272e+07</td><td>3.4568393e+02</td><td>5.1937159e-03</td><td>726877</td><td>1085.29493</td><td>1597.34871</td><td>1.7187776e+07</td><td>3.4101672e+02</td><td>2.9564602e+04</td><td>2.8950905e+01</td><td>1.7935272e+07</td><td>3.4568393e+02</td><td>0</td><td>———</td><td>———</td><td>———</td><td>———</td><td>1085.29493</td><td>2.3944598e-05</td><td>1597.34871</td><td>2.1795415e-04</td><td>-1.2117821e-02</td><td>6.0342282e-02</td></tr>\n",
       "<tr><td>2910.052529676056</td><td>1.7935010e+07</td><td>3.4566974e+02</td><td>5.1936796e-03</td><td>726878</td><td>1085.29488</td><td>1597.34572</td><td>1.7186694e+07</td><td>3.4100272e+02</td><td>2.9575246e+04</td><td>2.8936943e+01</td><td>1.7935010e+07</td><td>3.4566974e+02</td><td>0</td><td>———</td><td>———</td><td>———</td><td>———</td><td>1085.29488</td><td>2.3943603e-05</td><td>1597.34572</td><td>2.1798996e-04</td><td>-1.1639307e-02</td><td>6.1400581e-02</td></tr>\n",
       "</table></div>"
      ],
      "text/plain": [
       "<TessLightCurve length=11673 LABEL=\"TIC 346783960\" SECTOR=58 AUTHOR=SPOC FLUX_ORIGIN=pdcsap_flux>\n",
       "       time        ...   pos_corr2   \n",
       "                   ...      pix      \n",
       "       Time        ...    float32    \n",
       "------------------ ... --------------\n",
       "2882.3370241961716 ... -7.7257261e-02\n",
       "2882.3393390806837 ... -7.8921974e-02\n",
       " 2882.341653964731 ... -7.9041302e-02\n",
       " 2882.343968849243 ... -8.0006719e-02\n",
       "               ... ...            ...\n",
       "2910.0455853442895 ...  6.3906573e-02\n",
       "2910.0479001217004 ...  6.2825672e-02\n",
       "2910.0502148986457 ...  6.0342282e-02\n",
       " 2910.052529676056 ...  6.1400581e-02"
      ]
     },
     "execution_count": 10,
     "metadata": {},
     "output_type": "execute_result"
    }
   ],
   "source": [
    "search[1].download()"
   ]
  }
 ],
 "metadata": {
  "kernelspec": {
   "display_name": "Python 3 (ipykernel)",
   "language": "python",
   "name": "python3"
  },
  "language_info": {
   "codemirror_mode": {
    "name": "ipython",
    "version": 3
   },
   "file_extension": ".py",
   "mimetype": "text/x-python",
   "name": "python",
   "nbconvert_exporter": "python",
   "pygments_lexer": "ipython3",
   "version": "3.11.5"
  }
 },
 "nbformat": 4,
 "nbformat_minor": 5
}
