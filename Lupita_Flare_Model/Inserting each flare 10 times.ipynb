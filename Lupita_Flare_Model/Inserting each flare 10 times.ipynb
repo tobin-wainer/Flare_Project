{
 "cells": [
  {
   "cell_type": "code",
   "execution_count": 1,
   "id": "9d496b80",
   "metadata": {},
   "outputs": [
    {
     "name": "stderr",
     "output_type": "stream",
     "text": [
      "/Users/Tobin/opt/anaconda3/envs/Jim/lib/python3.11/site-packages/lightkurve/config/__init__.py:119: UserWarning: The default Lightkurve cache directory, used by download(), etc., has been moved to /Users/Tobin/.lightkurve/cache. Please move all the files in the legacy directory /Users/Tobin/.lightkurve-cache to the new location and remove the legacy directory. Refer to https://docs.lightkurve.org/reference/config.html#default-cache-directory-migration for more information.\n",
      "  warnings.warn(\n",
      "2023-12-12 15:01:16.877714: I tensorflow/core/platform/cpu_feature_guard.cc:182] This TensorFlow binary is optimized to use available CPU instructions in performance-critical operations.\n",
      "To enable the following instructions: AVX2 AVX512F AVX512_VNNI FMA, in other operations, rebuild TensorFlow with the appropriate compiler flags.\n"
     ]
    }
   ],
   "source": [
    "import numpy as np\n",
    "import matplotlib.pyplot as plt\n",
    "import pandas as pd\n",
    "from scipy.optimize import curve_fit\n",
    "import astropy\n",
    "import lightkurve as lk\n",
    "from scipy.optimize import minimize\n",
    "from lightkurve import search_lightcurvefile\n",
    "from lightkurve import search_lightcurve\n",
    "\n",
    "from astropy.table import Table, join, MaskedColumn, vstack, Column\n",
    "\n",
    "import sys  \n",
    "sys.path.append('/Users/Tobin/Dropbox/Stellar_Flares_Project/Lupita_Flare_Model/Llamaradas-Estelares/') #Edit this to your own file path\n",
    "from Flare_model import flare_model\n",
    "\n",
    "import astropy.units as u\n",
    "\n",
    "sys.path.append('/Users/Tobin/Dropbox/Stellar_Flares_Project/Getting_Started/')\n",
    "import stella\n",
    "from tqdm import tqdm_notebook\n",
    "import os, sys\n",
    "from stella.download_nn_set import DownloadSets"
   ]
  },
  {
   "cell_type": "code",
   "execution_count": 16,
   "id": "4df6ffd2",
   "metadata": {},
   "outputs": [
    {
     "data": {
      "text/html": [
       "<div><i>Table length=439</i>\n",
       "<table id=\"table5308458576\" class=\"table-striped table-bordered table-condensed\">\n",
       "<thead><tr><th>ID</th><th>tpeak</th><th>FWHM</th><th>Amp</th><th>e_tpeak</th><th>e_FWHM</th><th>e_Amp</th><th>Source</th></tr></thead>\n",
       "<thead><tr><th></th><th>d</th><th>d</th><th></th><th>d</th><th>d</th><th></th><th></th></tr></thead>\n",
       "<thead><tr><th>int64</th><th>float64</th><th>float64</th><th>float64</th><th>str11</th><th>str11</th><th>float64</th><th>str6</th></tr></thead>\n",
       "<tr><td>0</td><td>539.6503088</td><td>0.00153389</td><td>0.008934698</td><td>6.49E-05</td><td>0.000213685</td><td>0.000716695</td><td>Kepler</td></tr>\n",
       "<tr><td>1</td><td>539.8699037</td><td>0.000956397</td><td>0.01223805</td><td>8.61E-05</td><td>0.000185378</td><td>0.00213297</td><td>Kepler</td></tr>\n",
       "<tr><td>2</td><td>541.1449682</td><td>0.002426536</td><td>0.007813247</td><td>5.18E-05</td><td>0.000187954</td><td>0.00037484</td><td>Kepler</td></tr>\n",
       "<tr><td>3</td><td>541.1731539</td><td>0.003951658</td><td>0.011726901</td><td>0.000102912</td><td>0.000339299</td><td>0.000683433</td><td>Kepler</td></tr>\n",
       "<tr><td>...</td><td>...</td><td>...</td><td>...</td><td>...</td><td>...</td><td>...</td><td>...</td></tr>\n",
       "<tr><td>435</td><td>1725.532746</td><td>0.006001372</td><td>0.015728469</td><td>0.000293083</td><td>0.001023428</td><td>0.00174061</td><td>TESS</td></tr>\n",
       "<tr><td>436</td><td>1726.595741</td><td>0.004285892</td><td>0.009459497</td><td>0.000249091</td><td>0.000854394</td><td>0.001214612</td><td>TESS</td></tr>\n",
       "<tr><td>437</td><td>1726.84291</td><td>0.001154102</td><td>0.047080266</td><td>0.000278262</td><td>0.00062281</td><td>0.028681623</td><td>TESS</td></tr>\n",
       "<tr><td>438</td><td>1720.841125</td><td>0.00298599</td><td>0.005046997</td><td>0.000754882</td><td>0.001403928</td><td>0.001474787</td><td>TESS</td></tr>\n",
       "</table></div>"
      ],
      "text/plain": [
       "<Table length=439>\n",
       "  ID     tpeak    ...    e_Amp    Source\n",
       "           d      ...                   \n",
       "int64   float64   ...   float64    str6 \n",
       "----- ----------- ... ----------- ------\n",
       "    0 539.6503088 ... 0.000716695 Kepler\n",
       "    1 539.8699037 ...  0.00213297 Kepler\n",
       "    2 541.1449682 ...  0.00037484 Kepler\n",
       "    3 541.1731539 ... 0.000683433 Kepler\n",
       "  ...         ... ...         ...    ...\n",
       "  435 1725.532746 ...  0.00174061   TESS\n",
       "  436 1726.595741 ... 0.001214612   TESS\n",
       "  437  1726.84291 ... 0.028681623   TESS\n",
       "  438 1720.841125 ... 0.001474787   TESS"
      ]
     },
     "execution_count": 16,
     "metadata": {},
     "output_type": "execute_result"
    }
   ],
   "source": [
    "lupita_tab=Table.read('lupita_tab_3.mrt', format='mrt')\n",
    "lupita_tab\n",
    "\n",
    "labeling_flare=np.zeros(len(lupita_tab))\n",
    "\n",
    "for i in range(len(lupita_tab)):\n",
    "    labeling_flare[i]=int(i)\n",
    "    \n",
    "lupita_tab.add_column(Column(labeling_flare.astype(int)), name='ID', index=0)\n",
    "\n",
    "lupita_tab"
   ]
  },
  {
   "cell_type": "code",
   "execution_count": 21,
   "id": "4d3aa1c8",
   "metadata": {},
   "outputs": [],
   "source": [
    "import pickle\n",
    "\n",
    "flare_info=pickle.load(open(\"/Users/Tobin/Dropbox/Stellar_Flares_Project/Getting_Started/Energies_and_rates.pkl\", 'rb'))\n"
   ]
  },
  {
   "cell_type": "code",
   "execution_count": 61,
   "id": "5d791683",
   "metadata": {},
   "outputs": [],
   "source": [
    "def get_lc(tic, sector_ind):\n",
    "\n",
    "    search = lk.search_lightcurve(target=tic, mission='TESS', author='SPOC')\n",
    "\n",
    "    search.table[\"dataURL\"] = search.table[\"dataURI\"]\n",
    "    lc = search[sector_ind].download()\n",
    "    lc=lc[~np.isnan(lc.flux.value)]\n",
    "    \n",
    "    \n",
    "    return lc\n",
    "\n",
    "def syn_flare_insertion(lc, flare_amp, flare_fwhm, inserted_time_step):\n",
    "    \n",
    "    model_flare_flux=flare_model(lc['time'].value, lc['time'].value[inserted_time_step], \n",
    "                             flare_fwhm, flare_amp*np.median(lc.flux.value))\n",
    "    \n",
    "    \n",
    "    \n",
    "    fixed_mask=np.ma.filled(model_flare_flux, fill_value=0)\n",
    "    \n",
    "    fixed_mask2=np.nan_to_num(fixed_mask, nan=0)\n",
    "    \n",
    "    lc_with_inserted_flare=fixed_mask2+lc.flux.value\n",
    "    \n",
    "    return lc_with_inserted_flare\n",
    "\n",
    "\n",
    "def recovery(lc, inserted_flare_flux, inserted_time_step):\n",
    "    \"Initialize Stella\"\n",
    "    OUT_DIR='/Users/Tobin/Dropbox/Stellar_Flares_Project/Getting Started/Results/'\n",
    "\n",
    "    cnn = stella.ConvNN(output_dir=OUT_DIR)\n",
    "\n",
    "    ds = DownloadSets()\n",
    "    ds.download_models()\n",
    "\n",
    "    MODELS=ds.models\n",
    "    \n",
    "    #Test recovery:\n",
    "    preds = np.zeros((len(MODELS),len(lc['time'].value)))\n",
    "\n",
    "    for i, model in enumerate(MODELS):\n",
    "        cnn.predict(modelname=model,\n",
    "                times=lc.time.value,\n",
    "                fluxes=inserted_flare_flux,\n",
    "                errs=lc['flux_err'].value)\n",
    "        preds[i] = cnn.predictions[0]\n",
    "\n",
    "    avg_pred = np.nanmedian(preds, axis=0)\n",
    "    \n",
    "    pred_at_inserterd_timestep = avg_pred[inserted_time_step]\n",
    "    \n",
    "    one_before=avg_pred[inserted_time_step-1]\n",
    "    one_after=avg_pred[inserted_time_step+1]\n",
    "    \n",
    "    if pred_at_inserterd_timestep > 0.3 and one_before > 0.3 and one_after > 0.3:\n",
    "        return True, avg_pred\n",
    "    else:\n",
    "        return False, None"
   ]
  },
  {
   "cell_type": "code",
   "execution_count": 64,
   "id": "392ebbcb",
   "metadata": {},
   "outputs": [],
   "source": [
    "def Injecting_and_recovery(tic, flare, sector_ind):\n",
    "    \n",
    "    lc = get_lc(tic, sector_ind)\n",
    "    \n",
    "    sector_bool=flare_info['Flare_Bool'][sector_ind]\n",
    "    \n",
    "    while True:\n",
    "        rand_insertion_point=np.random.randint(2, len(lc)-3, size=1)\n",
    "        \n",
    "        print(rand_insertion_point, ~flare_info['Flare_Bool'][0][rand_insertion_point])\n",
    "        \n",
    "        if ~flare_info['Flare_Bool'][0][rand_insertion_point]:\n",
    "            break\n",
    "\n",
    "    inserted_flare=syn_flare_insertion(lc, lupita_tab['Amp'][flare], lupita_tab['FWHM'][flare], rand_insertion_point)\n",
    "\n",
    "    recovered, pred = recovery(lc, inserted_flare, rand_insertion_point)\n",
    "\n",
    "    return recovered"
   ]
  },
  {
   "cell_type": "code",
   "execution_count": 36,
   "id": "487cecf0",
   "metadata": {},
   "outputs": [
    {
     "data": {
      "text/html": [
       "<div><i>Table length=21950</i>\n",
       "<table id=\"table5496303248\" class=\"table-striped table-bordered table-condensed\">\n",
       "<thead><tr><th>ID</th><th>Sector</th><th>Sector_Insertion_Trial</th><th>Recovered</th><th>tpeak</th><th>FWHM</th><th>Amp</th><th>e_tpeak</th><th>e_FWHM</th><th>e_Amp</th><th>Source</th></tr></thead>\n",
       "<thead><tr><th></th><th></th><th></th><th></th><th>d</th><th>d</th><th></th><th>d</th><th>d</th><th></th><th></th></tr></thead>\n",
       "<thead><tr><th>int64</th><th>int64</th><th>int64</th><th>bool</th><th>float64</th><th>float64</th><th>float64</th><th>str11</th><th>str11</th><th>float64</th><th>str6</th></tr></thead>\n",
       "<tr><td>0</td><td>0</td><td>1</td><td>False</td><td>539.6503088</td><td>0.00153389</td><td>0.008934698</td><td>6.49E-05</td><td>0.000213685</td><td>0.000716695</td><td>Kepler</td></tr>\n",
       "<tr><td>0</td><td>0</td><td>2</td><td>False</td><td>539.6503088</td><td>0.00153389</td><td>0.008934698</td><td>6.49E-05</td><td>0.000213685</td><td>0.000716695</td><td>Kepler</td></tr>\n",
       "<tr><td>0</td><td>0</td><td>3</td><td>False</td><td>539.6503088</td><td>0.00153389</td><td>0.008934698</td><td>6.49E-05</td><td>0.000213685</td><td>0.000716695</td><td>Kepler</td></tr>\n",
       "<tr><td>0</td><td>0</td><td>4</td><td>False</td><td>539.6503088</td><td>0.00153389</td><td>0.008934698</td><td>6.49E-05</td><td>0.000213685</td><td>0.000716695</td><td>Kepler</td></tr>\n",
       "<tr><td>...</td><td>...</td><td>...</td><td>...</td><td>...</td><td>...</td><td>...</td><td>...</td><td>...</td><td>...</td><td>...</td></tr>\n",
       "<tr><td>438</td><td>4</td><td>7</td><td>False</td><td>1720.841125</td><td>0.00298599</td><td>0.005046997</td><td>0.000754882</td><td>0.001403928</td><td>0.001474787</td><td>TESS</td></tr>\n",
       "<tr><td>438</td><td>4</td><td>8</td><td>False</td><td>1720.841125</td><td>0.00298599</td><td>0.005046997</td><td>0.000754882</td><td>0.001403928</td><td>0.001474787</td><td>TESS</td></tr>\n",
       "<tr><td>438</td><td>4</td><td>9</td><td>False</td><td>1720.841125</td><td>0.00298599</td><td>0.005046997</td><td>0.000754882</td><td>0.001403928</td><td>0.001474787</td><td>TESS</td></tr>\n",
       "<tr><td>438</td><td>4</td><td>10</td><td>False</td><td>1720.841125</td><td>0.00298599</td><td>0.005046997</td><td>0.000754882</td><td>0.001403928</td><td>0.001474787</td><td>TESS</td></tr>\n",
       "</table></div>"
      ],
      "text/plain": [
       "<Table length=21950>\n",
       "  ID  Sector ...    e_Amp    Source\n",
       "             ...                   \n",
       "int64 int64  ...   float64    str6 \n",
       "----- ------ ... ----------- ------\n",
       "    0      0 ... 0.000716695 Kepler\n",
       "    0      0 ... 0.000716695 Kepler\n",
       "    0      0 ... 0.000716695 Kepler\n",
       "    0      0 ... 0.000716695 Kepler\n",
       "  ...    ... ...         ...    ...\n",
       "  438      4 ... 0.001474787   TESS\n",
       "  438      4 ... 0.001474787   TESS\n",
       "  438      4 ... 0.001474787   TESS\n",
       "  438      4 ... 0.001474787   TESS"
      ]
     },
     "execution_count": 36,
     "metadata": {},
     "output_type": "execute_result"
    }
   ],
   "source": [
    "list_of_rows=[]\n",
    "\n",
    "for i in range(len(lupita_tab)):\n",
    "    row = Table(lupita_tab[i])\n",
    "    \n",
    "    row.add_column(Column([0]), name='Sector_Insertion_Trial', index=1)\n",
    "    \n",
    "    row.add_column(Column([0]), name='Sector', index=1)\n",
    "    \n",
    "    list_of_10_rows=[]\n",
    "    \n",
    "    for j in range(10):\n",
    "        list_of_10_rows.append(row)\n",
    "        \n",
    "    table_of_length_10=vstack(list_of_10_rows)\n",
    "    \n",
    "    for j in range(len(table_of_length_10)):\n",
    "        table_of_length_10['Sector_Insertion_Trial'][j]=j+1\n",
    "    \n",
    "    list_of_50_rows=[]\n",
    "    \n",
    "    for k in range(5):\n",
    "        list_of_50_rows.append(table_of_length_10)\n",
    "    \n",
    "    table_of_length_50=vstack(list_of_50_rows)\n",
    "    \n",
    "    for j in range(len(table_of_length_50)):\n",
    "        if j <10:\n",
    "            table_of_length_50['Sector'][j]=0\n",
    "        if j >10 and j < 20:\n",
    "            table_of_length_50['Sector'][j]=1\n",
    "        if j >20 and j < 30:\n",
    "            table_of_length_50['Sector'][j]=2\n",
    "        if j >30 and j < 40:\n",
    "            table_of_length_50['Sector'][j]=3\n",
    "        if j > 40:\n",
    "            table_of_length_50['Sector'][j]=4\n",
    "            \n",
    "    \n",
    "    list_of_rows.append(table_of_length_50)\n",
    "        \n",
    "trial_table=vstack(list_of_rows)\n",
    "trial_table\n",
    "\n",
    "Recovery=np.zeros(len(trial_table))\n",
    "\n",
    "trial_table.add_column(Column(Recovery), name='Recovered', index=3)\n",
    "\n",
    "trial_table['Recovered'] = trial_table['Recovered'].astype('bool')\n",
    "\n",
    "trial_table"
   ]
  },
  {
   "cell_type": "code",
   "execution_count": 65,
   "id": "bdceeab5",
   "metadata": {
    "scrolled": true
   },
   "outputs": [
    {
     "name": "stdout",
     "output_type": "stream",
     "text": [
      "[13304] [ True]\n",
      "WARNING: No stella.DataSet object passed in.\n",
      "Can only use stella.ConvNN.predict().\n",
      "Models have already been downloaded to ~/.stella/models\n"
     ]
    },
    {
     "name": "stderr",
     "output_type": "stream",
     "text": [
      "/Users/Tobin/Dropbox/Stellar_Flares_Project/Lupita_Flare_Model/Llamaradas-Estelares/Flare_model.py:21: RuntimeWarning: overflow encountered in exp\n",
      "  eqn = ((1 / 2) * np.sqrt(np.pi) * A * C * f1 * np.exp(-D1 * t + ((B / C) + (D1 * C / 2)) ** 2)\n",
      "/Users/Tobin/Dropbox/Stellar_Flares_Project/Lupita_Flare_Model/Llamaradas-Estelares/Flare_model.py:21: RuntimeWarning: invalid value encountered in multiply\n",
      "  eqn = ((1 / 2) * np.sqrt(np.pi) * A * C * f1 * np.exp(-D1 * t + ((B / C) + (D1 * C / 2)) ** 2)\n",
      "/Users/Tobin/Dropbox/Stellar_Flares_Project/Lupita_Flare_Model/Llamaradas-Estelares/Flare_model.py:23: RuntimeWarning: overflow encountered in exp\n",
      "  * np.exp(-D2 * t+ ((B / C) + (D2 * C / 2)) ** 2) * special.erfc(((B - t) / C) + (C * D2 / 2)))\n",
      "/Users/Tobin/Dropbox/Stellar_Flares_Project/Lupita_Flare_Model/Llamaradas-Estelares/Flare_model.py:22: RuntimeWarning: invalid value encountered in multiply\n",
      "  * special.erfc(((B - t) / C) + (C * D1 / 2))) + ((1 / 2) * np.sqrt(np.pi) * A * C * f2\n",
      "  0%|                        | 0/1 [00:00<?, ?it/s]"
     ]
    },
    {
     "name": "stdout",
     "output_type": "stream",
     "text": [
      "546/546 [==============================] - 2s 3ms/step\n"
     ]
    },
    {
     "name": "stderr",
     "output_type": "stream",
     "text": [
      "100%|████████████████| 1/1 [00:02<00:00,  2.51s/it]\n",
      "  0%|                        | 0/1 [00:00<?, ?it/s]"
     ]
    },
    {
     "name": "stdout",
     "output_type": "stream",
     "text": [
      "546/546 [==============================] - 2s 2ms/step\n"
     ]
    },
    {
     "name": "stderr",
     "output_type": "stream",
     "text": [
      "100%|████████████████| 1/1 [00:01<00:00,  1.97s/it]\n",
      "  0%|                        | 0/1 [00:00<?, ?it/s]"
     ]
    },
    {
     "name": "stdout",
     "output_type": "stream",
     "text": [
      "546/546 [==============================] - 1s 2ms/step\n"
     ]
    },
    {
     "name": "stderr",
     "output_type": "stream",
     "text": [
      "100%|████████████████| 1/1 [00:01<00:00,  1.81s/it]\n",
      "  0%|                        | 0/1 [00:00<?, ?it/s]"
     ]
    },
    {
     "name": "stdout",
     "output_type": "stream",
     "text": [
      "546/546 [==============================] - 1s 2ms/step\n"
     ]
    },
    {
     "name": "stderr",
     "output_type": "stream",
     "text": [
      "100%|████████████████| 1/1 [00:01<00:00,  1.70s/it]\n",
      "  0%|                        | 0/1 [00:00<?, ?it/s]"
     ]
    },
    {
     "name": "stdout",
     "output_type": "stream",
     "text": [
      "546/546 [==============================] - 2s 3ms/step\n"
     ]
    },
    {
     "name": "stderr",
     "output_type": "stream",
     "text": [
      "100%|████████████████| 1/1 [00:01<00:00,  1.98s/it]\n",
      "  0%|                        | 0/1 [00:00<?, ?it/s]"
     ]
    },
    {
     "name": "stdout",
     "output_type": "stream",
     "text": [
      "546/546 [==============================] - 1s 2ms/step\n"
     ]
    },
    {
     "name": "stderr",
     "output_type": "stream",
     "text": [
      "100%|████████████████| 1/1 [00:01<00:00,  1.82s/it]\n",
      "  0%|                        | 0/1 [00:00<?, ?it/s]"
     ]
    },
    {
     "name": "stdout",
     "output_type": "stream",
     "text": [
      "546/546 [==============================] - 1s 2ms/step\n"
     ]
    },
    {
     "name": "stderr",
     "output_type": "stream",
     "text": [
      "100%|████████████████| 1/1 [00:01<00:00,  1.71s/it]\n",
      "  0%|                        | 0/1 [00:00<?, ?it/s]"
     ]
    },
    {
     "name": "stdout",
     "output_type": "stream",
     "text": [
      "546/546 [==============================] - 1s 2ms/step\n"
     ]
    },
    {
     "name": "stderr",
     "output_type": "stream",
     "text": [
      "100%|████████████████| 1/1 [00:01<00:00,  1.86s/it]\n",
      "  0%|                        | 0/1 [00:00<?, ?it/s]"
     ]
    },
    {
     "name": "stdout",
     "output_type": "stream",
     "text": [
      "546/546 [==============================] - 1s 2ms/step\n"
     ]
    },
    {
     "name": "stderr",
     "output_type": "stream",
     "text": [
      "100%|████████████████| 1/1 [00:01<00:00,  1.69s/it]\n",
      "  0%|                        | 0/1 [00:00<?, ?it/s]"
     ]
    },
    {
     "name": "stdout",
     "output_type": "stream",
     "text": [
      "546/546 [==============================] - 1s 2ms/step\n"
     ]
    },
    {
     "name": "stderr",
     "output_type": "stream",
     "text": [
      "100%|████████████████| 1/1 [00:01<00:00,  1.73s/it]\n",
      "/Users/Tobin/Dropbox/Stellar_Flares_Project/Lupita_Flare_Model/Llamaradas-Estelares/Flare_model.py:21: RuntimeWarning: overflow encountered in exp\n",
      "  eqn = ((1 / 2) * np.sqrt(np.pi) * A * C * f1 * np.exp(-D1 * t + ((B / C) + (D1 * C / 2)) ** 2)\n",
      "/Users/Tobin/Dropbox/Stellar_Flares_Project/Lupita_Flare_Model/Llamaradas-Estelares/Flare_model.py:21: RuntimeWarning: invalid value encountered in multiply\n",
      "  eqn = ((1 / 2) * np.sqrt(np.pi) * A * C * f1 * np.exp(-D1 * t + ((B / C) + (D1 * C / 2)) ** 2)\n",
      "/Users/Tobin/Dropbox/Stellar_Flares_Project/Lupita_Flare_Model/Llamaradas-Estelares/Flare_model.py:23: RuntimeWarning: overflow encountered in exp\n",
      "  * np.exp(-D2 * t+ ((B / C) + (D2 * C / 2)) ** 2) * special.erfc(((B - t) / C) + (C * D2 / 2)))\n",
      "/Users/Tobin/Dropbox/Stellar_Flares_Project/Lupita_Flare_Model/Llamaradas-Estelares/Flare_model.py:22: RuntimeWarning: invalid value encountered in multiply\n",
      "  * special.erfc(((B - t) / C) + (C * D1 / 2))) + ((1 / 2) * np.sqrt(np.pi) * A * C * f2\n"
     ]
    },
    {
     "name": "stdout",
     "output_type": "stream",
     "text": [
      "[7001] [ True]\n",
      "WARNING: No stella.DataSet object passed in.\n",
      "Can only use stella.ConvNN.predict().\n",
      "Models have already been downloaded to ~/.stella/models\n"
     ]
    },
    {
     "name": "stderr",
     "output_type": "stream",
     "text": [
      "\r",
      "  0%|                        | 0/1 [00:00<?, ?it/s]"
     ]
    },
    {
     "name": "stdout",
     "output_type": "stream",
     "text": [
      "546/546 [==============================] - 1s 3ms/step\n"
     ]
    },
    {
     "name": "stderr",
     "output_type": "stream",
     "text": [
      "100%|████████████████| 1/1 [00:01<00:00,  1.83s/it]\n",
      "  0%|                        | 0/1 [00:00<?, ?it/s]"
     ]
    },
    {
     "name": "stdout",
     "output_type": "stream",
     "text": [
      "546/546 [==============================] - 1s 2ms/step\n"
     ]
    },
    {
     "name": "stderr",
     "output_type": "stream",
     "text": [
      "100%|████████████████| 1/1 [00:01<00:00,  1.72s/it]\n",
      "  0%|                        | 0/1 [00:00<?, ?it/s]"
     ]
    },
    {
     "name": "stdout",
     "output_type": "stream",
     "text": [
      "546/546 [==============================] - 1s 2ms/step\n"
     ]
    },
    {
     "name": "stderr",
     "output_type": "stream",
     "text": [
      "100%|████████████████| 1/1 [00:01<00:00,  1.73s/it]\n",
      "  0%|                        | 0/1 [00:00<?, ?it/s]"
     ]
    },
    {
     "name": "stdout",
     "output_type": "stream",
     "text": [
      "546/546 [==============================] - 1s 2ms/step\n"
     ]
    },
    {
     "name": "stderr",
     "output_type": "stream",
     "text": [
      "100%|████████████████| 1/1 [00:01<00:00,  1.63s/it]\n",
      "  0%|                        | 0/1 [00:00<?, ?it/s]"
     ]
    },
    {
     "name": "stdout",
     "output_type": "stream",
     "text": [
      "546/546 [==============================] - 2s 3ms/step\n"
     ]
    },
    {
     "name": "stderr",
     "output_type": "stream",
     "text": [
      "100%|████████████████| 1/1 [00:01<00:00,  1.94s/it]\n",
      "  0%|                        | 0/1 [00:00<?, ?it/s]"
     ]
    },
    {
     "name": "stdout",
     "output_type": "stream",
     "text": [
      "546/546 [==============================] - 1s 2ms/step\n"
     ]
    },
    {
     "name": "stderr",
     "output_type": "stream",
     "text": [
      "100%|████████████████| 1/1 [00:02<00:00,  2.19s/it]\n",
      "  0%|                        | 0/1 [00:00<?, ?it/s]"
     ]
    },
    {
     "name": "stdout",
     "output_type": "stream",
     "text": [
      "546/546 [==============================] - 1s 2ms/step\n"
     ]
    },
    {
     "name": "stderr",
     "output_type": "stream",
     "text": [
      "100%|████████████████| 1/1 [00:01<00:00,  1.69s/it]\n",
      "  0%|                        | 0/1 [00:00<?, ?it/s]"
     ]
    },
    {
     "name": "stdout",
     "output_type": "stream",
     "text": [
      "546/546 [==============================] - 1s 2ms/step\n"
     ]
    },
    {
     "name": "stderr",
     "output_type": "stream",
     "text": [
      "100%|████████████████| 1/1 [00:01<00:00,  1.75s/it]\n",
      "  0%|                        | 0/1 [00:00<?, ?it/s]"
     ]
    },
    {
     "name": "stdout",
     "output_type": "stream",
     "text": [
      "546/546 [==============================] - 1s 2ms/step\n"
     ]
    },
    {
     "name": "stderr",
     "output_type": "stream",
     "text": [
      "100%|████████████████| 1/1 [00:01<00:00,  1.76s/it]\n",
      "  0%|                        | 0/1 [00:00<?, ?it/s]"
     ]
    },
    {
     "name": "stdout",
     "output_type": "stream",
     "text": [
      "546/546 [==============================] - 2s 3ms/step\n"
     ]
    },
    {
     "name": "stderr",
     "output_type": "stream",
     "text": [
      "100%|████████████████| 1/1 [00:01<00:00,  1.89s/it]\n",
      "/Users/Tobin/Dropbox/Stellar_Flares_Project/Lupita_Flare_Model/Llamaradas-Estelares/Flare_model.py:23: RuntimeWarning: overflow encountered in exp\n",
      "  * np.exp(-D2 * t+ ((B / C) + (D2 * C / 2)) ** 2) * special.erfc(((B - t) / C) + (C * D2 / 2)))\n",
      "/Users/Tobin/Dropbox/Stellar_Flares_Project/Lupita_Flare_Model/Llamaradas-Estelares/Flare_model.py:22: RuntimeWarning: invalid value encountered in multiply\n",
      "  * special.erfc(((B - t) / C) + (C * D1 / 2))) + ((1 / 2) * np.sqrt(np.pi) * A * C * f2\n"
     ]
    },
    {
     "name": "stdout",
     "output_type": "stream",
     "text": [
      "[3355] [ True]\n",
      "WARNING: No stella.DataSet object passed in.\n",
      "Can only use stella.ConvNN.predict().\n",
      "Models have already been downloaded to ~/.stella/models\n"
     ]
    },
    {
     "name": "stderr",
     "output_type": "stream",
     "text": [
      "\r",
      "  0%|                        | 0/1 [00:00<?, ?it/s]"
     ]
    },
    {
     "name": "stdout",
     "output_type": "stream",
     "text": [
      "546/546 [==============================] - 2s 3ms/step\n"
     ]
    },
    {
     "name": "stderr",
     "output_type": "stream",
     "text": [
      "100%|████████████████| 1/1 [00:01<00:00,  1.86s/it]\n",
      "  0%|                        | 0/1 [00:00<?, ?it/s]"
     ]
    },
    {
     "name": "stdout",
     "output_type": "stream",
     "text": [
      "546/546 [==============================] - 1s 2ms/step\n"
     ]
    },
    {
     "name": "stderr",
     "output_type": "stream",
     "text": [
      "100%|████████████████| 1/1 [00:01<00:00,  1.74s/it]\n",
      "  0%|                        | 0/1 [00:00<?, ?it/s]"
     ]
    },
    {
     "name": "stdout",
     "output_type": "stream",
     "text": [
      "546/546 [==============================] - 1s 2ms/step\n"
     ]
    },
    {
     "name": "stderr",
     "output_type": "stream",
     "text": [
      "100%|████████████████| 1/1 [00:01<00:00,  1.67s/it]\n",
      "  0%|                        | 0/1 [00:00<?, ?it/s]"
     ]
    },
    {
     "name": "stdout",
     "output_type": "stream",
     "text": [
      "546/546 [==============================] - 1s 2ms/step\n"
     ]
    },
    {
     "name": "stderr",
     "output_type": "stream",
     "text": [
      "100%|████████████████| 1/1 [00:01<00:00,  1.69s/it]\n",
      "  0%|                        | 0/1 [00:00<?, ?it/s]"
     ]
    },
    {
     "name": "stdout",
     "output_type": "stream",
     "text": [
      "546/546 [==============================] - 1s 2ms/step\n"
     ]
    },
    {
     "name": "stderr",
     "output_type": "stream",
     "text": [
      "100%|████████████████| 1/1 [00:01<00:00,  1.66s/it]\n",
      "  0%|                        | 0/1 [00:00<?, ?it/s]"
     ]
    },
    {
     "name": "stdout",
     "output_type": "stream",
     "text": [
      "546/546 [==============================] - 1s 2ms/step\n"
     ]
    },
    {
     "name": "stderr",
     "output_type": "stream",
     "text": [
      "100%|████████████████| 1/1 [00:01<00:00,  1.65s/it]\n",
      "  0%|                        | 0/1 [00:00<?, ?it/s]"
     ]
    },
    {
     "name": "stdout",
     "output_type": "stream",
     "text": [
      "546/546 [==============================] - 1s 2ms/step\n"
     ]
    },
    {
     "name": "stderr",
     "output_type": "stream",
     "text": [
      "100%|████████████████| 1/1 [00:01<00:00,  1.77s/it]\n",
      "  0%|                        | 0/1 [00:00<?, ?it/s]"
     ]
    },
    {
     "name": "stdout",
     "output_type": "stream",
     "text": [
      "546/546 [==============================] - 1s 2ms/step\n"
     ]
    },
    {
     "name": "stderr",
     "output_type": "stream",
     "text": [
      "100%|████████████████| 1/1 [00:01<00:00,  1.81s/it]\n",
      "  0%|                        | 0/1 [00:00<?, ?it/s]"
     ]
    },
    {
     "name": "stdout",
     "output_type": "stream",
     "text": [
      "546/546 [==============================] - 1s 2ms/step\n"
     ]
    },
    {
     "name": "stderr",
     "output_type": "stream",
     "text": [
      "100%|████████████████| 1/1 [00:01<00:00,  1.70s/it]\n",
      "  0%|                        | 0/1 [00:00<?, ?it/s]"
     ]
    },
    {
     "name": "stdout",
     "output_type": "stream",
     "text": [
      "546/546 [==============================] - 1s 3ms/step\n"
     ]
    },
    {
     "name": "stderr",
     "output_type": "stream",
     "text": [
      "100%|████████████████| 1/1 [00:01<00:00,  1.75s/it]\n",
      "/Users/Tobin/Dropbox/Stellar_Flares_Project/Lupita_Flare_Model/Llamaradas-Estelares/Flare_model.py:21: RuntimeWarning: overflow encountered in exp\n",
      "  eqn = ((1 / 2) * np.sqrt(np.pi) * A * C * f1 * np.exp(-D1 * t + ((B / C) + (D1 * C / 2)) ** 2)\n",
      "/Users/Tobin/Dropbox/Stellar_Flares_Project/Lupita_Flare_Model/Llamaradas-Estelares/Flare_model.py:21: RuntimeWarning: invalid value encountered in multiply\n",
      "  eqn = ((1 / 2) * np.sqrt(np.pi) * A * C * f1 * np.exp(-D1 * t + ((B / C) + (D1 * C / 2)) ** 2)\n",
      "/Users/Tobin/Dropbox/Stellar_Flares_Project/Lupita_Flare_Model/Llamaradas-Estelares/Flare_model.py:23: RuntimeWarning: overflow encountered in exp\n",
      "  * np.exp(-D2 * t+ ((B / C) + (D2 * C / 2)) ** 2) * special.erfc(((B - t) / C) + (C * D2 / 2)))\n",
      "/Users/Tobin/Dropbox/Stellar_Flares_Project/Lupita_Flare_Model/Llamaradas-Estelares/Flare_model.py:22: RuntimeWarning: invalid value encountered in multiply\n",
      "  * special.erfc(((B - t) / C) + (C * D1 / 2))) + ((1 / 2) * np.sqrt(np.pi) * A * C * f2\n"
     ]
    },
    {
     "name": "stdout",
     "output_type": "stream",
     "text": [
      "[6592] [ True]\n",
      "WARNING: No stella.DataSet object passed in.\n",
      "Can only use stella.ConvNN.predict().\n",
      "Models have already been downloaded to ~/.stella/models\n"
     ]
    },
    {
     "name": "stderr",
     "output_type": "stream",
     "text": [
      "\r",
      "  0%|                        | 0/1 [00:00<?, ?it/s]"
     ]
    },
    {
     "name": "stdout",
     "output_type": "stream",
     "text": [
      "546/546 [==============================] - 1s 2ms/step\n"
     ]
    },
    {
     "name": "stderr",
     "output_type": "stream",
     "text": [
      "100%|████████████████| 1/1 [00:01<00:00,  1.71s/it]\n",
      "  0%|                        | 0/1 [00:00<?, ?it/s]"
     ]
    },
    {
     "name": "stdout",
     "output_type": "stream",
     "text": [
      "546/546 [==============================] - 1s 2ms/step\n"
     ]
    },
    {
     "name": "stderr",
     "output_type": "stream",
     "text": [
      "100%|████████████████| 1/1 [00:01<00:00,  1.77s/it]\n",
      "  0%|                        | 0/1 [00:00<?, ?it/s]"
     ]
    },
    {
     "name": "stdout",
     "output_type": "stream",
     "text": [
      "546/546 [==============================] - 1s 2ms/step\n"
     ]
    },
    {
     "name": "stderr",
     "output_type": "stream",
     "text": [
      "100%|████████████████| 1/1 [00:01<00:00,  1.73s/it]\n",
      "  0%|                        | 0/1 [00:00<?, ?it/s]"
     ]
    },
    {
     "name": "stdout",
     "output_type": "stream",
     "text": [
      "546/546 [==============================] - 1s 3ms/step\n"
     ]
    },
    {
     "name": "stderr",
     "output_type": "stream",
     "text": [
      "100%|████████████████| 1/1 [00:01<00:00,  1.80s/it]\n",
      "  0%|                        | 0/1 [00:00<?, ?it/s]"
     ]
    },
    {
     "name": "stdout",
     "output_type": "stream",
     "text": [
      "546/546 [==============================] - 1s 2ms/step\n"
     ]
    },
    {
     "name": "stderr",
     "output_type": "stream",
     "text": [
      "100%|████████████████| 1/1 [00:01<00:00,  1.68s/it]\n",
      "  0%|                        | 0/1 [00:00<?, ?it/s]"
     ]
    },
    {
     "name": "stdout",
     "output_type": "stream",
     "text": [
      "546/546 [==============================] - 1s 2ms/step\n"
     ]
    },
    {
     "name": "stderr",
     "output_type": "stream",
     "text": [
      "100%|████████████████| 1/1 [00:01<00:00,  1.74s/it]\n",
      "  0%|                        | 0/1 [00:00<?, ?it/s]"
     ]
    },
    {
     "name": "stdout",
     "output_type": "stream",
     "text": [
      "546/546 [==============================] - 1s 2ms/step\n"
     ]
    },
    {
     "name": "stderr",
     "output_type": "stream",
     "text": [
      "100%|████████████████| 1/1 [00:01<00:00,  1.69s/it]\n",
      "  0%|                        | 0/1 [00:00<?, ?it/s]"
     ]
    },
    {
     "name": "stdout",
     "output_type": "stream",
     "text": [
      "546/546 [==============================] - 1s 3ms/step\n"
     ]
    },
    {
     "name": "stderr",
     "output_type": "stream",
     "text": [
      "100%|████████████████| 1/1 [00:01<00:00,  1.80s/it]\n",
      "  0%|                        | 0/1 [00:00<?, ?it/s]"
     ]
    },
    {
     "name": "stdout",
     "output_type": "stream",
     "text": [
      "546/546 [==============================] - 1s 2ms/step\n"
     ]
    },
    {
     "name": "stderr",
     "output_type": "stream",
     "text": [
      "100%|████████████████| 1/1 [00:01<00:00,  1.67s/it]\n",
      "  0%|                        | 0/1 [00:00<?, ?it/s]"
     ]
    },
    {
     "name": "stdout",
     "output_type": "stream",
     "text": [
      "546/546 [==============================] - 1s 3ms/step\n"
     ]
    },
    {
     "name": "stderr",
     "output_type": "stream",
     "text": [
      "100%|████████████████| 1/1 [00:01<00:00,  1.80s/it]\n",
      "/Users/Tobin/Dropbox/Stellar_Flares_Project/Lupita_Flare_Model/Llamaradas-Estelares/Flare_model.py:21: RuntimeWarning: overflow encountered in exp\n",
      "  eqn = ((1 / 2) * np.sqrt(np.pi) * A * C * f1 * np.exp(-D1 * t + ((B / C) + (D1 * C / 2)) ** 2)\n",
      "/Users/Tobin/Dropbox/Stellar_Flares_Project/Lupita_Flare_Model/Llamaradas-Estelares/Flare_model.py:21: RuntimeWarning: invalid value encountered in multiply\n",
      "  eqn = ((1 / 2) * np.sqrt(np.pi) * A * C * f1 * np.exp(-D1 * t + ((B / C) + (D1 * C / 2)) ** 2)\n",
      "/Users/Tobin/Dropbox/Stellar_Flares_Project/Lupita_Flare_Model/Llamaradas-Estelares/Flare_model.py:23: RuntimeWarning: overflow encountered in exp\n",
      "  * np.exp(-D2 * t+ ((B / C) + (D2 * C / 2)) ** 2) * special.erfc(((B - t) / C) + (C * D2 / 2)))\n",
      "/Users/Tobin/Dropbox/Stellar_Flares_Project/Lupita_Flare_Model/Llamaradas-Estelares/Flare_model.py:22: RuntimeWarning: invalid value encountered in multiply\n",
      "  * special.erfc(((B - t) / C) + (C * D1 / 2))) + ((1 / 2) * np.sqrt(np.pi) * A * C * f2\n"
     ]
    },
    {
     "name": "stdout",
     "output_type": "stream",
     "text": [
      "[17308] [ True]\n",
      "WARNING: No stella.DataSet object passed in.\n",
      "Can only use stella.ConvNN.predict().\n",
      "Models have already been downloaded to ~/.stella/models\n"
     ]
    },
    {
     "name": "stderr",
     "output_type": "stream",
     "text": [
      "\r",
      "  0%|                        | 0/1 [00:00<?, ?it/s]"
     ]
    },
    {
     "name": "stdout",
     "output_type": "stream",
     "text": [
      "546/546 [==============================] - 1s 2ms/step\n"
     ]
    },
    {
     "name": "stderr",
     "output_type": "stream",
     "text": [
      "100%|████████████████| 1/1 [00:01<00:00,  1.63s/it]\n",
      "  0%|                        | 0/1 [00:00<?, ?it/s]"
     ]
    },
    {
     "name": "stdout",
     "output_type": "stream",
     "text": [
      "546/546 [==============================] - 1s 2ms/step\n"
     ]
    },
    {
     "name": "stderr",
     "output_type": "stream",
     "text": [
      "100%|████████████████| 1/1 [00:01<00:00,  1.77s/it]\n",
      "  0%|                        | 0/1 [00:00<?, ?it/s]"
     ]
    },
    {
     "name": "stdout",
     "output_type": "stream",
     "text": [
      "546/546 [==============================] - 1s 2ms/step\n"
     ]
    },
    {
     "name": "stderr",
     "output_type": "stream",
     "text": [
      "100%|████████████████| 1/1 [00:10<00:00, 10.20s/it]\n",
      "  0%|                        | 0/1 [00:00<?, ?it/s]"
     ]
    },
    {
     "name": "stdout",
     "output_type": "stream",
     "text": [
      "546/546 [==============================] - 1s 2ms/step\n"
     ]
    },
    {
     "name": "stderr",
     "output_type": "stream",
     "text": [
      "100%|████████████████| 1/1 [00:01<00:00,  1.77s/it]\n",
      "  0%|                        | 0/1 [00:00<?, ?it/s]"
     ]
    },
    {
     "name": "stdout",
     "output_type": "stream",
     "text": [
      "546/546 [==============================] - 1s 2ms/step\n"
     ]
    },
    {
     "name": "stderr",
     "output_type": "stream",
     "text": [
      "100%|████████████████| 1/1 [00:01<00:00,  1.69s/it]\n",
      "  0%|                        | 0/1 [00:00<?, ?it/s]"
     ]
    },
    {
     "name": "stdout",
     "output_type": "stream",
     "text": [
      "546/546 [==============================] - 1s 2ms/step\n"
     ]
    },
    {
     "name": "stderr",
     "output_type": "stream",
     "text": [
      "100%|████████████████| 1/1 [00:01<00:00,  1.78s/it]\n",
      "  0%|                        | 0/1 [00:00<?, ?it/s]"
     ]
    },
    {
     "name": "stdout",
     "output_type": "stream",
     "text": [
      "546/546 [==============================] - 2s 3ms/step\n"
     ]
    },
    {
     "name": "stderr",
     "output_type": "stream",
     "text": [
      "100%|████████████████| 1/1 [00:01<00:00,  1.92s/it]\n",
      "  0%|                        | 0/1 [00:00<?, ?it/s]"
     ]
    },
    {
     "name": "stdout",
     "output_type": "stream",
     "text": [
      "546/546 [==============================] - 2s 3ms/step\n"
     ]
    },
    {
     "name": "stderr",
     "output_type": "stream",
     "text": [
      "100%|████████████████| 1/1 [00:02<00:00,  2.23s/it]\n",
      "  0%|                        | 0/1 [00:00<?, ?it/s]"
     ]
    },
    {
     "name": "stdout",
     "output_type": "stream",
     "text": [
      "546/546 [==============================] - 1s 3ms/step\n"
     ]
    },
    {
     "name": "stderr",
     "output_type": "stream",
     "text": [
      "100%|████████████████| 1/1 [00:01<00:00,  1.87s/it]\n",
      "  0%|                        | 0/1 [00:00<?, ?it/s]"
     ]
    },
    {
     "name": "stdout",
     "output_type": "stream",
     "text": [
      "546/546 [==============================] - 2s 3ms/step\n"
     ]
    },
    {
     "name": "stderr",
     "output_type": "stream",
     "text": [
      "100%|████████████████| 1/1 [00:01<00:00,  1.96s/it]\n"
     ]
    },
    {
     "data": {
      "text/html": [
       "<div><i>Table length=5</i>\n",
       "<table id=\"table5579621264\" class=\"table-striped table-bordered table-condensed\">\n",
       "<thead><tr><th>ID</th><th>Sector</th><th>Sector_Insertion_Trial</th><th>Recovered</th><th>tpeak</th><th>FWHM</th><th>Amp</th><th>e_tpeak</th><th>e_FWHM</th><th>e_Amp</th><th>Source</th></tr></thead>\n",
       "<thead><tr><th></th><th></th><th></th><th></th><th>d</th><th>d</th><th></th><th>d</th><th>d</th><th></th><th></th></tr></thead>\n",
       "<thead><tr><th>int64</th><th>int64</th><th>int64</th><th>bool</th><th>float64</th><th>float64</th><th>float64</th><th>str11</th><th>str11</th><th>float64</th><th>str6</th></tr></thead>\n",
       "<tr><td>0</td><td>0</td><td>1</td><td>False</td><td>539.6503088</td><td>0.00153389</td><td>0.008934698</td><td>6.49E-05</td><td>0.000213685</td><td>0.000716695</td><td>Kepler</td></tr>\n",
       "<tr><td>0</td><td>0</td><td>2</td><td>False</td><td>539.6503088</td><td>0.00153389</td><td>0.008934698</td><td>6.49E-05</td><td>0.000213685</td><td>0.000716695</td><td>Kepler</td></tr>\n",
       "<tr><td>0</td><td>0</td><td>3</td><td>False</td><td>539.6503088</td><td>0.00153389</td><td>0.008934698</td><td>6.49E-05</td><td>0.000213685</td><td>0.000716695</td><td>Kepler</td></tr>\n",
       "<tr><td>0</td><td>0</td><td>4</td><td>False</td><td>539.6503088</td><td>0.00153389</td><td>0.008934698</td><td>6.49E-05</td><td>0.000213685</td><td>0.000716695</td><td>Kepler</td></tr>\n",
       "<tr><td>0</td><td>0</td><td>5</td><td>False</td><td>539.6503088</td><td>0.00153389</td><td>0.008934698</td><td>6.49E-05</td><td>0.000213685</td><td>0.000716695</td><td>Kepler</td></tr>\n",
       "</table></div>"
      ],
      "text/plain": [
       "<Table length=5>\n",
       "  ID  Sector ...    e_Amp    Source\n",
       "             ...                   \n",
       "int64 int64  ...   float64    str6 \n",
       "----- ------ ... ----------- ------\n",
       "    0      0 ... 0.000716695 Kepler\n",
       "    0      0 ... 0.000716695 Kepler\n",
       "    0      0 ... 0.000716695 Kepler\n",
       "    0      0 ... 0.000716695 Kepler\n",
       "    0      0 ... 0.000716695 Kepler"
      ]
     },
     "execution_count": 65,
     "metadata": {},
     "output_type": "execute_result"
    }
   ],
   "source": [
    "#testing\n",
    "\n",
    "for i in range(5):\n",
    "    trial_table[i]['Recovered']=Injecting_and_recovery('tic272272592', trial_table[i]['ID'], trial_table[i]['Sector'])\n",
    "    \n",
    "trial_table[:5]"
   ]
  },
  {
   "cell_type": "code",
   "execution_count": null,
   "id": "2a183f5e",
   "metadata": {},
   "outputs": [],
   "source": [
    "#Read in file from .py script\n",
    "\n",
    "trial_table = Table.read('Injection_Recovery_Table_Results.fits')\n",
    "\n",
    "trial_table"
   ]
  },
  {
   "cell_type": "code",
   "execution_count": null,
   "id": "9983c63d",
   "metadata": {},
   "outputs": [],
   "source": [
    "#Calc the EDs for each of the flares "
   ]
  }
 ],
 "metadata": {
  "kernelspec": {
   "display_name": "Python 3 (ipykernel)",
   "language": "python",
   "name": "python3"
  },
  "language_info": {
   "codemirror_mode": {
    "name": "ipython",
    "version": 3
   },
   "file_extension": ".py",
   "mimetype": "text/x-python",
   "name": "python",
   "nbconvert_exporter": "python",
   "pygments_lexer": "ipython3",
   "version": "3.11.5"
  }
 },
 "nbformat": 4,
 "nbformat_minor": 5
}
